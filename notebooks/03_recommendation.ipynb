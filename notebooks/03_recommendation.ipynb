{
 "cells": [
  {
   "cell_type": "markdown",
   "metadata": {},
   "source": [
    "# Gas Price Recommendation\n",
    "\n",
    "This notebook evaluate the approach on a simulation. It runs a simulation for the 'Geth' strategy too, as a baseline candidate."
   ]
  },
  {
   "cell_type": "code",
   "execution_count": 1,
   "metadata": {},
   "outputs": [
    {
     "name": "stdout",
     "output_type": "stream",
     "text": [
      "Processing /home/luisao/perso/deep_gas_oracle\n",
      "Requirement already satisfied: numpy in /home/luisao/conda_main/lib/python3.8/site-packages (from deep-gas-oracle==0.1) (1.19.5)\n",
      "Requirement already satisfied: pandas in /home/luisao/conda_main/lib/python3.8/site-packages (from deep-gas-oracle==0.1) (1.2.1)\n",
      "Requirement already satisfied: pandas-gbq in /home/luisao/conda_main/lib/python3.8/site-packages (from deep-gas-oracle==0.1) (0.14.0)\n",
      "Requirement already satisfied: pyarrow in /home/luisao/conda_main/lib/python3.8/site-packages (from deep-gas-oracle==0.1) (2.0.0)\n",
      "Requirement already satisfied: google-cloud-bigquery[bqstorage,pandas] in /home/luisao/conda_main/lib/python3.8/site-packages (from deep-gas-oracle==0.1) (2.6.2)\n",
      "Requirement already satisfied: statsmodels in /home/luisao/conda_main/lib/python3.8/site-packages (from deep-gas-oracle==0.1) (0.12.1)\n",
      "Requirement already satisfied: sklearn in /home/luisao/conda_main/lib/python3.8/site-packages (from deep-gas-oracle==0.1) (0.0)\n",
      "Requirement already satisfied: torch in /home/luisao/conda_main/lib/python3.8/site-packages (from deep-gas-oracle==0.1) (1.7.1)\n",
      "Requirement already satisfied: tsmoothie in /home/luisao/conda_main/lib/python3.8/site-packages (from deep-gas-oracle==0.1) (1.0.1)\n",
      "Requirement already satisfied: tensorboard in /home/luisao/conda_main/lib/python3.8/site-packages (from deep-gas-oracle==0.1) (2.4.1)\n",
      "Requirement already satisfied: matplotlib in /home/luisao/conda_main/lib/python3.8/site-packages (from deep-gas-oracle==0.1) (3.3.3)\n",
      "Requirement already satisfied: plotly in /home/luisao/conda_main/lib/python3.8/site-packages (from deep-gas-oracle==0.1) (4.14.3)\n",
      "Requirement already satisfied: holoviews in /home/luisao/conda_main/lib/python3.8/site-packages (from deep-gas-oracle==0.1) (1.14.1)\n",
      "Requirement already satisfied: seaborn in /home/luisao/conda_main/lib/python3.8/site-packages (from deep-gas-oracle==0.1) (0.11.1)\n",
      "Requirement already satisfied: notebook in /home/luisao/conda_main/lib/python3.8/site-packages (from deep-gas-oracle==0.1) (6.2.0)\n",
      "Requirement already satisfied: protobuf>=3.12.0 in /home/luisao/conda_main/lib/python3.8/site-packages (from google-cloud-bigquery[bqstorage,pandas]->deep-gas-oracle==0.1) (3.14.0)\n",
      "Requirement already satisfied: proto-plus>=1.10.0 in /home/luisao/conda_main/lib/python3.8/site-packages (from google-cloud-bigquery[bqstorage,pandas]->deep-gas-oracle==0.1) (1.13.0)\n",
      "Requirement already satisfied: google-api-core[grpc]<2.0.0dev,>=1.23.0 in /home/luisao/conda_main/lib/python3.8/site-packages (from google-cloud-bigquery[bqstorage,pandas]->deep-gas-oracle==0.1) (1.25.0)\n",
      "Requirement already satisfied: google-resumable-media<2.0dev,>=0.6.0 in /home/luisao/conda_main/lib/python3.8/site-packages (from google-cloud-bigquery[bqstorage,pandas]->deep-gas-oracle==0.1) (1.2.0)\n",
      "Requirement already satisfied: google-cloud-core<2.0dev,>=1.4.1 in /home/luisao/conda_main/lib/python3.8/site-packages (from google-cloud-bigquery[bqstorage,pandas]->deep-gas-oracle==0.1) (1.5.0)\n",
      "Requirement already satisfied: grpcio<2.0dev,>=1.32.0 in /home/luisao/conda_main/lib/python3.8/site-packages (from google-cloud-bigquery[bqstorage,pandas]->deep-gas-oracle==0.1) (1.35.0)\n",
      "Requirement already satisfied: google-cloud-bigquery-storage<3.0.0dev,>=2.0.0 in /home/luisao/conda_main/lib/python3.8/site-packages (from google-cloud-bigquery[bqstorage,pandas]->deep-gas-oracle==0.1) (2.1.0)\n",
      "Requirement already satisfied: pytz in /home/luisao/conda_main/lib/python3.8/site-packages (from google-api-core[grpc]<2.0.0dev,>=1.23.0->google-cloud-bigquery[bqstorage,pandas]->deep-gas-oracle==0.1) (2020.5)\n",
      "Requirement already satisfied: requests<3.0.0dev,>=2.18.0 in /home/luisao/conda_main/lib/python3.8/site-packages (from google-api-core[grpc]<2.0.0dev,>=1.23.0->google-cloud-bigquery[bqstorage,pandas]->deep-gas-oracle==0.1) (2.25.1)\n",
      "Requirement already satisfied: googleapis-common-protos<2.0dev,>=1.6.0 in /home/luisao/conda_main/lib/python3.8/site-packages (from google-api-core[grpc]<2.0.0dev,>=1.23.0->google-cloud-bigquery[bqstorage,pandas]->deep-gas-oracle==0.1) (1.52.0)\n",
      "Requirement already satisfied: google-auth<2.0dev,>=1.21.1 in /home/luisao/conda_main/lib/python3.8/site-packages (from google-api-core[grpc]<2.0.0dev,>=1.23.0->google-cloud-bigquery[bqstorage,pandas]->deep-gas-oracle==0.1) (1.24.0)\n",
      "Requirement already satisfied: six>=1.13.0 in /home/luisao/conda_main/lib/python3.8/site-packages (from google-api-core[grpc]<2.0.0dev,>=1.23.0->google-cloud-bigquery[bqstorage,pandas]->deep-gas-oracle==0.1) (1.15.0)\n",
      "Requirement already satisfied: setuptools>=40.3.0 in /home/luisao/conda_main/lib/python3.8/site-packages (from google-api-core[grpc]<2.0.0dev,>=1.23.0->google-cloud-bigquery[bqstorage,pandas]->deep-gas-oracle==0.1) (51.3.3.post20210118)\n",
      "Requirement already satisfied: pyasn1-modules>=0.2.1 in /home/luisao/conda_main/lib/python3.8/site-packages (from google-auth<2.0dev,>=1.21.1->google-api-core[grpc]<2.0.0dev,>=1.23.0->google-cloud-bigquery[bqstorage,pandas]->deep-gas-oracle==0.1) (0.2.8)\n",
      "Requirement already satisfied: rsa<5,>=3.1.4 in /home/luisao/conda_main/lib/python3.8/site-packages (from google-auth<2.0dev,>=1.21.1->google-api-core[grpc]<2.0.0dev,>=1.23.0->google-cloud-bigquery[bqstorage,pandas]->deep-gas-oracle==0.1) (4.7)\n",
      "Requirement already satisfied: cachetools<5.0,>=2.0.0 in /home/luisao/conda_main/lib/python3.8/site-packages (from google-auth<2.0dev,>=1.21.1->google-api-core[grpc]<2.0.0dev,>=1.23.0->google-cloud-bigquery[bqstorage,pandas]->deep-gas-oracle==0.1) (4.2.0)\n",
      "Requirement already satisfied: libcst>=0.2.5 in /home/luisao/conda_main/lib/python3.8/site-packages (from google-cloud-bigquery-storage<3.0.0dev,>=2.0.0->google-cloud-bigquery[bqstorage,pandas]->deep-gas-oracle==0.1) (0.3.16)\n",
      "Requirement already satisfied: google-crc32c<2.0dev,>=1.0 in /home/luisao/conda_main/lib/python3.8/site-packages (from google-resumable-media<2.0dev,>=0.6.0->google-cloud-bigquery[bqstorage,pandas]->deep-gas-oracle==0.1) (1.1.2)\n",
      "Requirement already satisfied: cffi>=1.0.0 in /home/luisao/conda_main/lib/python3.8/site-packages (from google-crc32c<2.0dev,>=1.0->google-resumable-media<2.0dev,>=0.6.0->google-cloud-bigquery[bqstorage,pandas]->deep-gas-oracle==0.1) (1.14.4)\n",
      "Requirement already satisfied: pycparser in /home/luisao/conda_main/lib/python3.8/site-packages (from cffi>=1.0.0->google-crc32c<2.0dev,>=1.0->google-resumable-media<2.0dev,>=0.6.0->google-cloud-bigquery[bqstorage,pandas]->deep-gas-oracle==0.1) (2.20)\n",
      "Requirement already satisfied: pyyaml>=5.2 in /home/luisao/conda_main/lib/python3.8/site-packages (from libcst>=0.2.5->google-cloud-bigquery-storage<3.0.0dev,>=2.0.0->google-cloud-bigquery[bqstorage,pandas]->deep-gas-oracle==0.1) (5.4.1)\n",
      "Requirement already satisfied: typing-extensions>=3.7.4.2 in /home/luisao/conda_main/lib/python3.8/site-packages (from libcst>=0.2.5->google-cloud-bigquery-storage<3.0.0dev,>=2.0.0->google-cloud-bigquery[bqstorage,pandas]->deep-gas-oracle==0.1) (3.7.4.3)\n",
      "Requirement already satisfied: typing-inspect>=0.4.0 in /home/luisao/conda_main/lib/python3.8/site-packages (from libcst>=0.2.5->google-cloud-bigquery-storage<3.0.0dev,>=2.0.0->google-cloud-bigquery[bqstorage,pandas]->deep-gas-oracle==0.1) (0.6.0)\n",
      "Requirement already satisfied: python-dateutil>=2.7.3 in /home/luisao/conda_main/lib/python3.8/site-packages (from pandas->deep-gas-oracle==0.1) (2.8.1)\n",
      "Requirement already satisfied: pyasn1<0.5.0,>=0.4.6 in /home/luisao/conda_main/lib/python3.8/site-packages (from pyasn1-modules>=0.2.1->google-auth<2.0dev,>=1.21.1->google-api-core[grpc]<2.0.0dev,>=1.23.0->google-cloud-bigquery[bqstorage,pandas]->deep-gas-oracle==0.1) (0.4.8)\n",
      "Requirement already satisfied: chardet<5,>=3.0.2 in /home/luisao/conda_main/lib/python3.8/site-packages (from requests<3.0.0dev,>=2.18.0->google-api-core[grpc]<2.0.0dev,>=1.23.0->google-cloud-bigquery[bqstorage,pandas]->deep-gas-oracle==0.1) (4.0.0)\n",
      "Requirement already satisfied: certifi>=2017.4.17 in /home/luisao/conda_main/lib/python3.8/site-packages (from requests<3.0.0dev,>=2.18.0->google-api-core[grpc]<2.0.0dev,>=1.23.0->google-cloud-bigquery[bqstorage,pandas]->deep-gas-oracle==0.1) (2020.12.5)\n",
      "Requirement already satisfied: idna<3,>=2.5 in /home/luisao/conda_main/lib/python3.8/site-packages (from requests<3.0.0dev,>=2.18.0->google-api-core[grpc]<2.0.0dev,>=1.23.0->google-cloud-bigquery[bqstorage,pandas]->deep-gas-oracle==0.1) (2.10)\n",
      "Requirement already satisfied: urllib3<1.27,>=1.21.1 in /home/luisao/conda_main/lib/python3.8/site-packages (from requests<3.0.0dev,>=2.18.0->google-api-core[grpc]<2.0.0dev,>=1.23.0->google-cloud-bigquery[bqstorage,pandas]->deep-gas-oracle==0.1) (1.26.2)\n"
     ]
    },
    {
     "name": "stdout",
     "output_type": "stream",
     "text": [
      "Requirement already satisfied: mypy-extensions>=0.3.0 in /home/luisao/conda_main/lib/python3.8/site-packages (from typing-inspect>=0.4.0->libcst>=0.2.5->google-cloud-bigquery-storage<3.0.0dev,>=2.0.0->google-cloud-bigquery[bqstorage,pandas]->deep-gas-oracle==0.1) (0.4.3)\n",
      "Requirement already satisfied: param<2.0,>=1.9.3 in /home/luisao/conda_main/lib/python3.8/site-packages (from holoviews->deep-gas-oracle==0.1) (1.10.1)\n",
      "Requirement already satisfied: colorcet in /home/luisao/conda_main/lib/python3.8/site-packages (from holoviews->deep-gas-oracle==0.1) (2.0.6)\n",
      "Requirement already satisfied: pyviz-comms>=0.7.3 in /home/luisao/conda_main/lib/python3.8/site-packages (from holoviews->deep-gas-oracle==0.1) (2.0.1)\n",
      "Requirement already satisfied: panel>=0.8.0 in /home/luisao/conda_main/lib/python3.8/site-packages (from holoviews->deep-gas-oracle==0.1) (0.10.3)\n",
      "Requirement already satisfied: bokeh>=2.2.2 in /home/luisao/conda_main/lib/python3.8/site-packages (from panel>=0.8.0->holoviews->deep-gas-oracle==0.1) (2.2.3)\n",
      "Requirement already satisfied: pyct>=0.4.4 in /home/luisao/conda_main/lib/python3.8/site-packages (from panel>=0.8.0->holoviews->deep-gas-oracle==0.1) (0.4.8)\n",
      "Requirement already satisfied: tqdm in /home/luisao/conda_main/lib/python3.8/site-packages (from panel>=0.8.0->holoviews->deep-gas-oracle==0.1) (4.56.0)\n",
      "Requirement already satisfied: markdown in /home/luisao/conda_main/lib/python3.8/site-packages (from panel>=0.8.0->holoviews->deep-gas-oracle==0.1) (3.3.3)\n",
      "Requirement already satisfied: Jinja2>=2.7 in /home/luisao/conda_main/lib/python3.8/site-packages (from bokeh>=2.2.2->panel>=0.8.0->holoviews->deep-gas-oracle==0.1) (2.11.2)\n",
      "Requirement already satisfied: packaging>=16.8 in /home/luisao/conda_main/lib/python3.8/site-packages (from bokeh>=2.2.2->panel>=0.8.0->holoviews->deep-gas-oracle==0.1) (20.8)\n",
      "Requirement already satisfied: tornado>=5.1 in /home/luisao/conda_main/lib/python3.8/site-packages (from bokeh>=2.2.2->panel>=0.8.0->holoviews->deep-gas-oracle==0.1) (6.1)\n",
      "Requirement already satisfied: pillow>=7.1.0 in /home/luisao/conda_main/lib/python3.8/site-packages (from bokeh>=2.2.2->panel>=0.8.0->holoviews->deep-gas-oracle==0.1) (8.1.0)\n",
      "Requirement already satisfied: MarkupSafe>=0.23 in /home/luisao/conda_main/lib/python3.8/site-packages (from Jinja2>=2.7->bokeh>=2.2.2->panel>=0.8.0->holoviews->deep-gas-oracle==0.1) (1.1.1)\n",
      "Requirement already satisfied: pyparsing>=2.0.2 in /home/luisao/conda_main/lib/python3.8/site-packages (from packaging>=16.8->bokeh>=2.2.2->panel>=0.8.0->holoviews->deep-gas-oracle==0.1) (2.4.7)\n",
      "Requirement already satisfied: cycler>=0.10 in /home/luisao/conda_main/lib/python3.8/site-packages (from matplotlib->deep-gas-oracle==0.1) (0.10.0)\n",
      "Requirement already satisfied: kiwisolver>=1.0.1 in /home/luisao/conda_main/lib/python3.8/site-packages (from matplotlib->deep-gas-oracle==0.1) (1.3.1)\n",
      "Requirement already satisfied: ipykernel in /home/luisao/conda_main/lib/python3.8/site-packages (from notebook->deep-gas-oracle==0.1) (5.4.3)\n",
      "Requirement already satisfied: nbconvert in /home/luisao/conda_main/lib/python3.8/site-packages (from notebook->deep-gas-oracle==0.1) (6.0.7)\n",
      "Requirement already satisfied: prometheus-client in /home/luisao/conda_main/lib/python3.8/site-packages (from notebook->deep-gas-oracle==0.1) (0.9.0)\n",
      "Requirement already satisfied: nbformat in /home/luisao/conda_main/lib/python3.8/site-packages (from notebook->deep-gas-oracle==0.1) (5.1.2)\n",
      "Requirement already satisfied: terminado>=0.8.3 in /home/luisao/conda_main/lib/python3.8/site-packages (from notebook->deep-gas-oracle==0.1) (0.9.2)\n",
      "Requirement already satisfied: traitlets>=4.2.1 in /home/luisao/conda_main/lib/python3.8/site-packages (from notebook->deep-gas-oracle==0.1) (5.0.5)\n",
      "Requirement already satisfied: jupyter-core>=4.6.1 in /home/luisao/conda_main/lib/python3.8/site-packages (from notebook->deep-gas-oracle==0.1) (4.7.0)\n",
      "Requirement already satisfied: jupyter-client>=5.3.4 in /home/luisao/conda_main/lib/python3.8/site-packages (from notebook->deep-gas-oracle==0.1) (6.1.11)\n",
      "Requirement already satisfied: pyzmq>=17 in /home/luisao/conda_main/lib/python3.8/site-packages (from notebook->deep-gas-oracle==0.1) (21.0.1)\n",
      "Requirement already satisfied: Send2Trash>=1.5.0 in /home/luisao/conda_main/lib/python3.8/site-packages (from notebook->deep-gas-oracle==0.1) (1.5.0)\n",
      "Requirement already satisfied: ipython-genutils in /home/luisao/conda_main/lib/python3.8/site-packages (from notebook->deep-gas-oracle==0.1) (0.2.0)\n",
      "Requirement already satisfied: argon2-cffi in /home/luisao/conda_main/lib/python3.8/site-packages (from notebook->deep-gas-oracle==0.1) (20.1.0)\n",
      "Requirement already satisfied: ptyprocess in /home/luisao/conda_main/lib/python3.8/site-packages (from terminado>=0.8.3->notebook->deep-gas-oracle==0.1) (0.7.0)\n",
      "Requirement already satisfied: ipython>=5.0.0 in /home/luisao/conda_main/lib/python3.8/site-packages (from ipykernel->notebook->deep-gas-oracle==0.1) (7.19.0)\n",
      "Requirement already satisfied: jedi>=0.10 in /home/luisao/conda_main/lib/python3.8/site-packages (from ipython>=5.0.0->ipykernel->notebook->deep-gas-oracle==0.1) (0.18.0)\n",
      "Requirement already satisfied: pygments in /home/luisao/conda_main/lib/python3.8/site-packages (from ipython>=5.0.0->ipykernel->notebook->deep-gas-oracle==0.1) (2.7.4)\n",
      "Requirement already satisfied: backcall in /home/luisao/conda_main/lib/python3.8/site-packages (from ipython>=5.0.0->ipykernel->notebook->deep-gas-oracle==0.1) (0.2.0)\n",
      "Requirement already satisfied: pexpect>4.3 in /home/luisao/conda_main/lib/python3.8/site-packages (from ipython>=5.0.0->ipykernel->notebook->deep-gas-oracle==0.1) (4.8.0)\n",
      "Requirement already satisfied: pickleshare in /home/luisao/conda_main/lib/python3.8/site-packages (from ipython>=5.0.0->ipykernel->notebook->deep-gas-oracle==0.1) (0.7.5)\n",
      "Requirement already satisfied: decorator in /home/luisao/conda_main/lib/python3.8/site-packages (from ipython>=5.0.0->ipykernel->notebook->deep-gas-oracle==0.1) (4.4.2)\n",
      "Requirement already satisfied: prompt-toolkit!=3.0.0,!=3.0.1,<3.1.0,>=2.0.0 in /home/luisao/conda_main/lib/python3.8/site-packages (from ipython>=5.0.0->ipykernel->notebook->deep-gas-oracle==0.1) (3.0.13)\n",
      "Requirement already satisfied: parso<0.9.0,>=0.8.0 in /home/luisao/conda_main/lib/python3.8/site-packages (from jedi>=0.10->ipython>=5.0.0->ipykernel->notebook->deep-gas-oracle==0.1) (0.8.1)\n",
      "Requirement already satisfied: wcwidth in /home/luisao/conda_main/lib/python3.8/site-packages (from prompt-toolkit!=3.0.0,!=3.0.1,<3.1.0,>=2.0.0->ipython>=5.0.0->ipykernel->notebook->deep-gas-oracle==0.1) (0.2.5)\n",
      "Requirement already satisfied: pandocfilters>=1.4.1 in /home/luisao/conda_main/lib/python3.8/site-packages (from nbconvert->notebook->deep-gas-oracle==0.1) (1.4.3)\n",
      "Requirement already satisfied: entrypoints>=0.2.2 in /home/luisao/conda_main/lib/python3.8/site-packages (from nbconvert->notebook->deep-gas-oracle==0.1) (0.3)\n",
      "Requirement already satisfied: defusedxml in /home/luisao/conda_main/lib/python3.8/site-packages (from nbconvert->notebook->deep-gas-oracle==0.1) (0.6.0)\n",
      "Requirement already satisfied: jupyterlab-pygments in /home/luisao/conda_main/lib/python3.8/site-packages (from nbconvert->notebook->deep-gas-oracle==0.1) (0.1.2)\n",
      "Requirement already satisfied: mistune<2,>=0.8.1 in /home/luisao/conda_main/lib/python3.8/site-packages (from nbconvert->notebook->deep-gas-oracle==0.1) (0.8.4)\n",
      "Requirement already satisfied: bleach in /home/luisao/conda_main/lib/python3.8/site-packages (from nbconvert->notebook->deep-gas-oracle==0.1) (3.2.2)\n",
      "Requirement already satisfied: nbclient<0.6.0,>=0.5.0 in /home/luisao/conda_main/lib/python3.8/site-packages (from nbconvert->notebook->deep-gas-oracle==0.1) (0.5.1)\n",
      "Requirement already satisfied: testpath in /home/luisao/conda_main/lib/python3.8/site-packages (from nbconvert->notebook->deep-gas-oracle==0.1) (0.4.4)\n",
      "Requirement already satisfied: nest-asyncio in /home/luisao/conda_main/lib/python3.8/site-packages (from nbclient<0.6.0,>=0.5.0->nbconvert->notebook->deep-gas-oracle==0.1) (1.4.3)\n",
      "Requirement already satisfied: async-generator in /home/luisao/conda_main/lib/python3.8/site-packages (from nbclient<0.6.0,>=0.5.0->nbconvert->notebook->deep-gas-oracle==0.1) (1.10)\n"
     ]
    },
    {
     "name": "stdout",
     "output_type": "stream",
     "text": [
      "Requirement already satisfied: jsonschema!=2.5.0,>=2.4 in /home/luisao/conda_main/lib/python3.8/site-packages (from nbformat->notebook->deep-gas-oracle==0.1) (3.2.0)\n",
      "Requirement already satisfied: pyrsistent>=0.14.0 in /home/luisao/conda_main/lib/python3.8/site-packages (from jsonschema!=2.5.0,>=2.4->nbformat->notebook->deep-gas-oracle==0.1) (0.17.3)\n",
      "Requirement already satisfied: attrs>=17.4.0 in /home/luisao/conda_main/lib/python3.8/site-packages (from jsonschema!=2.5.0,>=2.4->nbformat->notebook->deep-gas-oracle==0.1) (20.3.0)\n",
      "Requirement already satisfied: webencodings in /home/luisao/conda_main/lib/python3.8/site-packages (from bleach->nbconvert->notebook->deep-gas-oracle==0.1) (0.5.1)\n",
      "Requirement already satisfied: google-auth-oauthlib in /home/luisao/conda_main/lib/python3.8/site-packages (from pandas-gbq->deep-gas-oracle==0.1) (0.4.2)\n",
      "Requirement already satisfied: pydata-google-auth in /home/luisao/conda_main/lib/python3.8/site-packages (from pandas-gbq->deep-gas-oracle==0.1) (1.1.0)\n",
      "Requirement already satisfied: requests-oauthlib>=0.7.0 in /home/luisao/conda_main/lib/python3.8/site-packages (from google-auth-oauthlib->pandas-gbq->deep-gas-oracle==0.1) (1.3.0)\n",
      "Requirement already satisfied: oauthlib>=3.0.0 in /home/luisao/conda_main/lib/python3.8/site-packages (from requests-oauthlib>=0.7.0->google-auth-oauthlib->pandas-gbq->deep-gas-oracle==0.1) (3.1.0)\n",
      "Requirement already satisfied: retrying>=1.3.3 in /home/luisao/conda_main/lib/python3.8/site-packages (from plotly->deep-gas-oracle==0.1) (1.3.3)\n",
      "Requirement already satisfied: scipy>=1.0 in /home/luisao/conda_main/lib/python3.8/site-packages (from seaborn->deep-gas-oracle==0.1) (1.6.0)\n",
      "Requirement already satisfied: scikit-learn in /home/luisao/conda_main/lib/python3.8/site-packages (from sklearn->deep-gas-oracle==0.1) (0.24.1)\n",
      "Requirement already satisfied: joblib>=0.11 in /home/luisao/conda_main/lib/python3.8/site-packages (from scikit-learn->sklearn->deep-gas-oracle==0.1) (1.0.0)\n",
      "Requirement already satisfied: threadpoolctl>=2.0.0 in /home/luisao/conda_main/lib/python3.8/site-packages (from scikit-learn->sklearn->deep-gas-oracle==0.1) (2.1.0)\n",
      "Requirement already satisfied: patsy>=0.5 in /home/luisao/conda_main/lib/python3.8/site-packages (from statsmodels->deep-gas-oracle==0.1) (0.5.1)\n",
      "Requirement already satisfied: absl-py>=0.4 in /home/luisao/conda_main/lib/python3.8/site-packages (from tensorboard->deep-gas-oracle==0.1) (0.11.0)\n",
      "Requirement already satisfied: werkzeug>=0.11.15 in /home/luisao/conda_main/lib/python3.8/site-packages (from tensorboard->deep-gas-oracle==0.1) (1.0.1)\n",
      "Requirement already satisfied: wheel>=0.26 in /home/luisao/conda_main/lib/python3.8/site-packages (from tensorboard->deep-gas-oracle==0.1) (0.36.2)\n",
      "Requirement already satisfied: tensorboard-plugin-wit>=1.6.0 in /home/luisao/conda_main/lib/python3.8/site-packages (from tensorboard->deep-gas-oracle==0.1) (1.8.0)\n",
      "Requirement already satisfied: simdkalman in /home/luisao/conda_main/lib/python3.8/site-packages (from tsmoothie->deep-gas-oracle==0.1) (1.0.1)\n",
      "Building wheels for collected packages: deep-gas-oracle\n",
      "  Building wheel for deep-gas-oracle (setup.py) ... \u001b[?25ldone\n",
      "\u001b[?25h  Created wheel for deep-gas-oracle: filename=deep_gas_oracle-0.1-py3-none-any.whl size=13466 sha256=a4cbdbf05d5244b761815ea5ab32124e7acdd16b0fcde3e074f1cd8f5f558a08\n",
      "  Stored in directory: /tmp/pip-ephem-wheel-cache-ccvxx_6c/wheels/46/91/5b/04f12a63a74ba37fbc1e784aa0ede91818e9dbd7fd97630ca3\n",
      "Successfully built deep-gas-oracle\n",
      "Installing collected packages: deep-gas-oracle\n",
      "  Attempting uninstall: deep-gas-oracle\n",
      "    Found existing installation: deep-gas-oracle 0.1\n",
      "    Uninstalling deep-gas-oracle-0.1:\n",
      "      Successfully uninstalled deep-gas-oracle-0.1\n",
      "Successfully installed deep-gas-oracle-0.1\n"
     ]
    }
   ],
   "source": [
    "# Install the `deep_gas_oracle` package !\n",
    "!pip install ../\n",
    "\n",
    "import os\n",
    "from pathlib import Path\n",
    "import numpy as np\n",
    "import pandas as pd\n",
    "from google.cloud import bigquery\n",
    "import torch\n",
    "import matplotlib.pyplot as plt\n",
    "\n",
    "from deep_gas_oracle.preprocessing.fetch import fetch_eth_blocks\n",
    "from deep_gas_oracle.preprocessing.norm import Normalizer\n",
    "from deep_gas_oracle.modeling.model import GruMultiStep\n",
    "from deep_gas_oracle.recommendation.oracle import EthGasPriceOracle\n",
    "from deep_gas_oracle.recommendation.baseline import geth_recommend\n",
    "from deep_gas_oracle.recommendation.benchmark import evaluate_recommender\n",
    "# TODO: plot the final price recommendation versus the mean min and max"
   ]
  },
  {
   "cell_type": "markdown",
   "metadata": {},
   "source": [
    "## Configs"
   ]
  },
  {
   "cell_type": "code",
   "execution_count": 2,
   "metadata": {
    "pycharm": {
     "name": "#%%\n"
    }
   },
   "outputs": [],
   "source": [
    "configs = {\n",
    "    \"SELECTED_MODEL\": \"exp_1\",\n",
    "    \"SELECTED_WEIGHTS\": \"epoch_best.pth\",\n",
    "    \"URGENCY_PARAMETER\": 1.0,\n",
    "    \"PERCENTILE_VALUE\": 20, # 20th percentile as in the paper\n",
    "    \"BIG_QUERY_CREDENTIALS_PATH\": \"../credentials/gcp_credentials.json\",\n",
    "    # Dates used for the recommendation evaluation on eth blocks\n",
    "    \"START_DATE\": \"2019-11-19 00:00:00\",\n",
    "    \"END_DATE\": \"2019-11-24 00:00:00\",\n",
    "    \"BLOCK_START\": 8965759, # Optional\n",
    "    \"BLOCK_END\": 8995344, # Optional\n",
    "    \n",
    "    # MAKE SURE TO USE THE SAME VALUES HERE THAN ON THE TRAINED MODEL\n",
    "    # TODO: Serialize those configs from the model class itself\n",
    "    \"FEATURES\": [\"mean_gas_price\", \"min_gas_price\", \"max_gas_price\", \"mean_gas_price_24h_lagged\", \"eth_usd_price\"],\n",
    "    \"TARGETS\": [\"min_gas_price\"],\n",
    "    \"WINDOW_SIZE\": 200,\n",
    "    \"PREDICT_SIZE\": 36, ## 3h forecast length\n",
    "    \"HIDDEN_SIZE\": 16,\n",
    "    \"NUM_LAYERS\": 1,\n",
    "    \"BATCH_SIZE\": 1000,\n",
    "    \"SMOOTH_FRACTION\": 0.3, # A lower value of smooth_fraction will result in a smoother curve\n",
    "    \"PATHS\": {\n",
    "        \"TRAIN_DATASET_PATH\": \"../outputs/train_normalized.parquet\",\n",
    "        \"TEST_DATASET_PATH\": \"../outputs/test_normalized.parquet\",\n",
    "        \"SCALER_PATH\": \"../outputs/scaler.pickle\",\n",
    "        \"RUNS_DIR_PATH\": \"../outputs/runs\",\n",
    "    },\n",
    "    \"DEVICE\": \"cpu\"\n",
    "}"
   ]
  },
  {
   "cell_type": "markdown",
   "metadata": {},
   "source": [
    "### Model Loading"
   ]
  },
  {
   "cell_type": "code",
   "execution_count": 3,
   "metadata": {
    "pycharm": {
     "name": "#%%\n"
    }
   },
   "outputs": [
    {
     "name": "stdout",
     "output_type": "stream",
     "text": [
      "Parameters (param name -> param count):\n",
      "\tgru.weight_ih_l0 -> 240\n",
      "\tgru.weight_hh_l0 -> 768\n",
      "\tgru.bias_ih_l0 -> 48\n",
      "\tgru.bias_hh_l0 -> 48\n",
      "\tlinear_head.weight -> 576\n",
      "\tlinear_head.bias -> 36\n",
      "Total param count: 1716\n"
     ]
    },
    {
     "data": {
      "text/plain": [
       "GruMultiStep(\n",
       "  (gru): GRU(5, 16, batch_first=True)\n",
       "  (linear_head): Linear(in_features=16, out_features=36, bias=True)\n",
       "  (loss_func): MSELoss()\n",
       ")"
      ]
     },
     "execution_count": 3,
     "metadata": {},
     "output_type": "execute_result"
    }
   ],
   "source": [
    "PATH = Path(configs[\"PATHS\"][\"RUNS_DIR_PATH\"]) / configs[\"SELECTED_MODEL\"] / \"weights\" / configs[\"SELECTED_WEIGHTS\"]\n",
    "\n",
    "model = GruMultiStep(features=configs[\"FEATURES\"],\n",
    "                     targets=configs[\"TARGETS\"],\n",
    "                     input_length=configs[\"WINDOW_SIZE\"],\n",
    "                     output_length=configs[\"PREDICT_SIZE\"],\n",
    "                     hidden_size=configs[\"HIDDEN_SIZE\"],\n",
    "                     num_layers=configs[\"NUM_LAYERS\"],\n",
    "                     device=configs[\"DEVICE\"],\n",
    "                     logs_dir=configs[\"PATHS\"][\"RUNS_DIR_PATH\"])\n",
    "\n",
    "model.load_state_dict(torch.load(PATH))\n",
    "model"
   ]
  },
  {
   "cell_type": "code",
   "execution_count": 4,
   "metadata": {
    "pycharm": {
     "name": "#%%\n"
    }
   },
   "outputs": [
    {
     "data": {
      "text/html": [
       "<div>\n",
       "<style scoped>\n",
       "    .dataframe tbody tr th:only-of-type {\n",
       "        vertical-align: middle;\n",
       "    }\n",
       "\n",
       "    .dataframe tbody tr th {\n",
       "        vertical-align: top;\n",
       "    }\n",
       "\n",
       "    .dataframe thead th {\n",
       "        text-align: right;\n",
       "    }\n",
       "</style>\n",
       "<table border=\"1\" class=\"dataframe\">\n",
       "  <thead>\n",
       "    <tr style=\"text-align: right;\">\n",
       "      <th></th>\n",
       "      <th>mean_gas_price</th>\n",
       "      <th>min_gas_price</th>\n",
       "      <th>max_gas_price</th>\n",
       "      <th>mean_gas_price_24h_lagged</th>\n",
       "      <th>eth_usd_price</th>\n",
       "    </tr>\n",
       "    <tr>\n",
       "      <th>timestamp</th>\n",
       "      <th></th>\n",
       "      <th></th>\n",
       "      <th></th>\n",
       "      <th></th>\n",
       "      <th></th>\n",
       "    </tr>\n",
       "  </thead>\n",
       "  <tbody>\n",
       "    <tr>\n",
       "      <th>2019-11-19 00:05:00</th>\n",
       "      <td>-0.720053</td>\n",
       "      <td>-0.543821</td>\n",
       "      <td>-0.788088</td>\n",
       "      <td>-0.655300</td>\n",
       "      <td>0.990053</td>\n",
       "    </tr>\n",
       "    <tr>\n",
       "      <th>2019-11-19 00:10:00</th>\n",
       "      <td>-0.707747</td>\n",
       "      <td>-0.398689</td>\n",
       "      <td>-0.732144</td>\n",
       "      <td>-0.464569</td>\n",
       "      <td>0.984021</td>\n",
       "    </tr>\n",
       "    <tr>\n",
       "      <th>2019-11-19 00:15:00</th>\n",
       "      <td>-0.635097</td>\n",
       "      <td>-0.493932</td>\n",
       "      <td>-0.571965</td>\n",
       "      <td>-0.452274</td>\n",
       "      <td>0.996296</td>\n",
       "    </tr>\n",
       "    <tr>\n",
       "      <th>2019-11-19 00:20:00</th>\n",
       "      <td>-0.699065</td>\n",
       "      <td>-0.665194</td>\n",
       "      <td>-0.878513</td>\n",
       "      <td>-0.647407</td>\n",
       "      <td>0.980847</td>\n",
       "    </tr>\n",
       "    <tr>\n",
       "      <th>2019-11-19 00:25:00</th>\n",
       "      <td>-0.512848</td>\n",
       "      <td>-0.489645</td>\n",
       "      <td>-0.587268</td>\n",
       "      <td>-0.406151</td>\n",
       "      <td>0.978519</td>\n",
       "    </tr>\n",
       "  </tbody>\n",
       "</table>\n",
       "</div>"
      ],
      "text/plain": [
       "                     mean_gas_price  min_gas_price  max_gas_price  \\\n",
       "timestamp                                                           \n",
       "2019-11-19 00:05:00       -0.720053      -0.543821      -0.788088   \n",
       "2019-11-19 00:10:00       -0.707747      -0.398689      -0.732144   \n",
       "2019-11-19 00:15:00       -0.635097      -0.493932      -0.571965   \n",
       "2019-11-19 00:20:00       -0.699065      -0.665194      -0.878513   \n",
       "2019-11-19 00:25:00       -0.512848      -0.489645      -0.587268   \n",
       "\n",
       "                     mean_gas_price_24h_lagged  eth_usd_price  \n",
       "timestamp                                                      \n",
       "2019-11-19 00:05:00                  -0.655300       0.990053  \n",
       "2019-11-19 00:10:00                  -0.464569       0.984021  \n",
       "2019-11-19 00:15:00                  -0.452274       0.996296  \n",
       "2019-11-19 00:20:00                  -0.647407       0.980847  \n",
       "2019-11-19 00:25:00                  -0.406151       0.978519  "
      ]
     },
     "execution_count": 4,
     "metadata": {},
     "output_type": "execute_result"
    }
   ],
   "source": [
    "train_dataset = pd.read_parquet(configs[\"PATHS\"][\"TRAIN_DATASET_PATH\"])\n",
    "test_dataset = pd.read_parquet(configs[\"PATHS\"][\"TEST_DATASET_PATH\"])\n",
    "scaler = Normalizer.load_from_file(configs[\"PATHS\"][\"SCALER_PATH\"])\n",
    "\n",
    "test_dataset.head()"
   ]
  },
  {
   "cell_type": "markdown",
   "metadata": {},
   "source": [
    "## Deep gas oracle initialisation"
   ]
  },
  {
   "cell_type": "code",
   "execution_count": 5,
   "metadata": {
    "pycharm": {
     "name": "#%%\n"
    }
   },
   "outputs": [
    {
     "name": "stdout",
     "output_type": "stream",
     "text": [
      "Slopes fitting done from training set...\n",
      "min slope: -0.019485336225908572 / max slop: 0.01176639490418735\n"
     ]
    }
   ],
   "source": [
    "oracle = EthGasPriceOracle(model=model,\n",
    "                           training_normalized_dataframe=train_dataset,\n",
    "                           scaler=scaler,\n",
    "                           percentile_value=configs[\"PERCENTILE_VALUE\"])"
   ]
  },
  {
   "cell_type": "code",
   "execution_count": 6,
   "metadata": {
    "pycharm": {
     "name": "#%%\n"
    }
   },
   "outputs": [],
   "source": [
    "\n",
    "os.environ['GOOGLE_APPLICATION_CREDENTIALS'] = configs[\"BIG_QUERY_CREDENTIALS_PATH\"]"
   ]
  },
  {
   "cell_type": "code",
   "execution_count": 7,
   "metadata": {
    "pycharm": {
     "name": "#%%\n"
    }
   },
   "outputs": [],
   "source": [
    "\n",
    "client = bigquery.Client()"
   ]
  },
  {
   "cell_type": "code",
   "execution_count": 8,
   "metadata": {
    "pycharm": {
     "name": "#%%\n"
    }
   },
   "outputs": [],
   "source": [
    "\n",
    "df_blocks = fetch_eth_blocks(client,\n",
    "                             start_date=configs[\"START_DATE\"],\n",
    "                             end_date=configs[\"END_DATE\"])"
   ]
  },
  {
   "cell_type": "code",
   "execution_count": 9,
   "metadata": {
    "pycharm": {
     "name": "#%%\n"
    }
   },
   "outputs": [],
   "source": [
    "\n",
    "if \"BLOCK_START\" in list(configs.keys()) and configs[\"BLOCK_START\"] is not None:\n",
    "    block_start = configs[\"BLOCK_START\"]\n",
    "else:\n",
    "    block_start = df_blocks[df_blocks.index[0], \"number\"]\n",
    "if \"BLOCK_END\" in list(configs.keys()) and configs[\"BLOCK_END\"] is not None:\n",
    "    block_end = configs[\"BLOCK_END\"]\n",
    "else:\n",
    "    block_end = df_blocks[df_blocks.index[-1], \"number\"]"
   ]
  },
  {
   "cell_type": "code",
   "execution_count": 10,
   "metadata": {
    "pycharm": {
     "name": "#%%\n"
    }
   },
   "outputs": [
    {
     "data": {
      "text/html": [
       "<div>\n",
       "<style scoped>\n",
       "    .dataframe tbody tr th:only-of-type {\n",
       "        vertical-align: middle;\n",
       "    }\n",
       "\n",
       "    .dataframe tbody tr th {\n",
       "        vertical-align: top;\n",
       "    }\n",
       "\n",
       "    .dataframe thead th {\n",
       "        text-align: right;\n",
       "    }\n",
       "</style>\n",
       "<table border=\"1\" class=\"dataframe\">\n",
       "  <thead>\n",
       "    <tr style=\"text-align: right;\">\n",
       "      <th></th>\n",
       "      <th>number</th>\n",
       "      <th>transaction_count</th>\n",
       "      <th>gas_limit</th>\n",
       "      <th>gas_used_percentage</th>\n",
       "      <th>mean_gas_price</th>\n",
       "      <th>min_gas_price</th>\n",
       "      <th>max_gas_price</th>\n",
       "    </tr>\n",
       "    <tr>\n",
       "      <th>timestamp</th>\n",
       "      <th></th>\n",
       "      <th></th>\n",
       "      <th></th>\n",
       "      <th></th>\n",
       "      <th></th>\n",
       "      <th></th>\n",
       "      <th></th>\n",
       "    </tr>\n",
       "  </thead>\n",
       "  <tbody>\n",
       "    <tr>\n",
       "      <th>2019-11-20 01:56:12</th>\n",
       "      <td>8965759</td>\n",
       "      <td>229</td>\n",
       "      <td>99.54717</td>\n",
       "      <td>99.33974</td>\n",
       "      <td>17.537735</td>\n",
       "      <td>2.000000</td>\n",
       "      <td>60.000000</td>\n",
       "    </tr>\n",
       "    <tr>\n",
       "      <th>2019-11-20 01:56:24</th>\n",
       "      <td>8965760</td>\n",
       "      <td>175</td>\n",
       "      <td>99.44997</td>\n",
       "      <td>99.38679</td>\n",
       "      <td>11.582892</td>\n",
       "      <td>1.010402</td>\n",
       "      <td>343.597384</td>\n",
       "    </tr>\n",
       "    <tr>\n",
       "      <th>2019-11-20 01:56:32</th>\n",
       "      <td>8965761</td>\n",
       "      <td>160</td>\n",
       "      <td>99.49845</td>\n",
       "      <td>99.40293</td>\n",
       "      <td>3.952118</td>\n",
       "      <td>1.000000</td>\n",
       "      <td>26.000000</td>\n",
       "    </tr>\n",
       "    <tr>\n",
       "      <th>2019-11-20 01:56:51</th>\n",
       "      <td>8965762</td>\n",
       "      <td>100</td>\n",
       "      <td>99.40161</td>\n",
       "      <td>37.55431</td>\n",
       "      <td>18.159403</td>\n",
       "      <td>10.000000</td>\n",
       "      <td>60.000000</td>\n",
       "    </tr>\n",
       "    <tr>\n",
       "      <th>2019-11-20 01:57:09</th>\n",
       "      <td>8965763</td>\n",
       "      <td>208</td>\n",
       "      <td>99.35956</td>\n",
       "      <td>98.93110</td>\n",
       "      <td>10.469883</td>\n",
       "      <td>1.000000</td>\n",
       "      <td>163.208757</td>\n",
       "    </tr>\n",
       "  </tbody>\n",
       "</table>\n",
       "</div>"
      ],
      "text/plain": [
       "                      number  transaction_count  gas_limit  \\\n",
       "timestamp                                                    \n",
       "2019-11-20 01:56:12  8965759                229   99.54717   \n",
       "2019-11-20 01:56:24  8965760                175   99.44997   \n",
       "2019-11-20 01:56:32  8965761                160   99.49845   \n",
       "2019-11-20 01:56:51  8965762                100   99.40161   \n",
       "2019-11-20 01:57:09  8965763                208   99.35956   \n",
       "\n",
       "                     gas_used_percentage  mean_gas_price  min_gas_price  \\\n",
       "timestamp                                                                 \n",
       "2019-11-20 01:56:12             99.33974       17.537735       2.000000   \n",
       "2019-11-20 01:56:24             99.38679       11.582892       1.010402   \n",
       "2019-11-20 01:56:32             99.40293        3.952118       1.000000   \n",
       "2019-11-20 01:56:51             37.55431       18.159403      10.000000   \n",
       "2019-11-20 01:57:09             98.93110       10.469883       1.000000   \n",
       "\n",
       "                     max_gas_price  \n",
       "timestamp                           \n",
       "2019-11-20 01:56:12      60.000000  \n",
       "2019-11-20 01:56:24     343.597384  \n",
       "2019-11-20 01:56:32      26.000000  \n",
       "2019-11-20 01:56:51      60.000000  \n",
       "2019-11-20 01:57:09     163.208757  "
      ]
     },
     "execution_count": 10,
     "metadata": {},
     "output_type": "execute_result"
    }
   ],
   "source": [
    "df_blocks = df_blocks[(df_blocks[\"number\"] >= block_start) & (df_blocks[\"number\"] <= block_end)].copy()\n",
    "\n",
    "df_blocks.head()"
   ]
  },
  {
   "cell_type": "markdown",
   "metadata": {},
   "source": [
    "## Deep gas oracle evaluation"
   ]
  },
  {
   "cell_type": "code",
   "execution_count": 11,
   "metadata": {
    "pycharm": {
     "name": "#%%\n"
    }
   },
   "outputs": [
    {
     "data": {
      "text/html": [
       "<div>\n",
       "<style scoped>\n",
       "    .dataframe tbody tr th:only-of-type {\n",
       "        vertical-align: middle;\n",
       "    }\n",
       "\n",
       "    .dataframe tbody tr th {\n",
       "        vertical-align: top;\n",
       "    }\n",
       "\n",
       "    .dataframe thead th {\n",
       "        text-align: right;\n",
       "    }\n",
       "</style>\n",
       "<table border=\"1\" class=\"dataframe\">\n",
       "  <thead>\n",
       "    <tr style=\"text-align: right;\">\n",
       "      <th></th>\n",
       "      <th>gas_price_recommendation</th>\n",
       "    </tr>\n",
       "  </thead>\n",
       "  <tbody>\n",
       "    <tr>\n",
       "      <th>2019-11-19 16:40:00</th>\n",
       "      <td>2.084048</td>\n",
       "    </tr>\n",
       "    <tr>\n",
       "      <th>2019-11-19 16:45:00</th>\n",
       "      <td>2.021903</td>\n",
       "    </tr>\n",
       "    <tr>\n",
       "      <th>2019-11-19 16:50:00</th>\n",
       "      <td>2.229775</td>\n",
       "    </tr>\n",
       "    <tr>\n",
       "      <th>2019-11-19 16:55:00</th>\n",
       "      <td>2.391255</td>\n",
       "    </tr>\n",
       "    <tr>\n",
       "      <th>2019-11-19 17:00:00</th>\n",
       "      <td>2.291546</td>\n",
       "    </tr>\n",
       "  </tbody>\n",
       "</table>\n",
       "</div>"
      ],
      "text/plain": [
       "                     gas_price_recommendation\n",
       "2019-11-19 16:40:00                  2.084048\n",
       "2019-11-19 16:45:00                  2.021903\n",
       "2019-11-19 16:50:00                  2.229775\n",
       "2019-11-19 16:55:00                  2.391255\n",
       "2019-11-19 17:00:00                  2.291546"
      ]
     },
     "execution_count": 11,
     "metadata": {},
     "output_type": "execute_result"
    }
   ],
   "source": [
    "df_recommendation = oracle.recommend(test_dataset, configs[\"URGENCY_PARAMETER\"])\n",
    "df_recommendation.head()"
   ]
  },
  {
   "cell_type": "code",
   "execution_count": 12,
   "metadata": {
    "pycharm": {
     "name": "#%%\n"
    }
   },
   "outputs": [
    {
     "data": {
      "text/html": [
       "<div>\n",
       "<style scoped>\n",
       "    .dataframe tbody tr th:only-of-type {\n",
       "        vertical-align: middle;\n",
       "    }\n",
       "\n",
       "    .dataframe tbody tr th {\n",
       "        vertical-align: top;\n",
       "    }\n",
       "\n",
       "    .dataframe thead th {\n",
       "        text-align: right;\n",
       "    }\n",
       "</style>\n",
       "<table border=\"1\" class=\"dataframe\">\n",
       "  <thead>\n",
       "    <tr style=\"text-align: right;\">\n",
       "      <th></th>\n",
       "      <th>blocks_waited</th>\n",
       "      <th>price_recommended</th>\n",
       "      <th>inclusion_price</th>\n",
       "    </tr>\n",
       "  </thead>\n",
       "  <tbody>\n",
       "    <tr>\n",
       "      <th>count</th>\n",
       "      <td>28596.000000</td>\n",
       "      <td>28596.000000</td>\n",
       "      <td>28596.000000</td>\n",
       "    </tr>\n",
       "    <tr>\n",
       "      <th>mean</th>\n",
       "      <td>3.807316</td>\n",
       "      <td>2.325371</td>\n",
       "      <td>1.095438</td>\n",
       "    </tr>\n",
       "    <tr>\n",
       "      <th>std</th>\n",
       "      <td>8.255545</td>\n",
       "      <td>0.666092</td>\n",
       "      <td>0.419654</td>\n",
       "    </tr>\n",
       "    <tr>\n",
       "      <th>min</th>\n",
       "      <td>0.000000</td>\n",
       "      <td>0.000000</td>\n",
       "      <td>0.000000</td>\n",
       "    </tr>\n",
       "    <tr>\n",
       "      <th>25%</th>\n",
       "      <td>1.000000</td>\n",
       "      <td>1.804821</td>\n",
       "      <td>1.000000</td>\n",
       "    </tr>\n",
       "    <tr>\n",
       "      <th>50%</th>\n",
       "      <td>2.000000</td>\n",
       "      <td>2.398061</td>\n",
       "      <td>1.000000</td>\n",
       "    </tr>\n",
       "    <tr>\n",
       "      <th>75%</th>\n",
       "      <td>3.000000</td>\n",
       "      <td>2.723975</td>\n",
       "      <td>1.000000</td>\n",
       "    </tr>\n",
       "    <tr>\n",
       "      <th>max</th>\n",
       "      <td>139.000000</td>\n",
       "      <td>4.435253</td>\n",
       "      <td>4.000000</td>\n",
       "    </tr>\n",
       "  </tbody>\n",
       "</table>\n",
       "</div>"
      ],
      "text/plain": [
       "       blocks_waited  price_recommended  inclusion_price\n",
       "count   28596.000000       28596.000000     28596.000000\n",
       "mean        3.807316           2.325371         1.095438\n",
       "std         8.255545           0.666092         0.419654\n",
       "min         0.000000           0.000000         0.000000\n",
       "25%         1.000000           1.804821         1.000000\n",
       "50%         2.000000           2.398061         1.000000\n",
       "75%         3.000000           2.723975         1.000000\n",
       "max       139.000000           4.435253         4.000000"
      ]
     },
     "execution_count": 12,
     "metadata": {},
     "output_type": "execute_result"
    }
   ],
   "source": [
    "results = evaluate_recommender(df_blocks, df_recommendation)\n",
    "\n",
    "results[[\"blocks_waited\", \"price_recommended\", \"inclusion_price\"]].describe()"
   ]
  },
  {
   "cell_type": "markdown",
   "metadata": {},
   "source": [
    "## Geth baseline evaluation"
   ]
  },
  {
   "cell_type": "code",
   "execution_count": 13,
   "metadata": {
    "pycharm": {
     "name": "#%%\n"
    }
   },
   "outputs": [
    {
     "data": {
      "text/html": [
       "<div>\n",
       "<style scoped>\n",
       "    .dataframe tbody tr th:only-of-type {\n",
       "        vertical-align: middle;\n",
       "    }\n",
       "\n",
       "    .dataframe tbody tr th {\n",
       "        vertical-align: top;\n",
       "    }\n",
       "\n",
       "    .dataframe thead th {\n",
       "        text-align: right;\n",
       "    }\n",
       "</style>\n",
       "<table border=\"1\" class=\"dataframe\">\n",
       "  <thead>\n",
       "    <tr style=\"text-align: right;\">\n",
       "      <th></th>\n",
       "      <th>gas_price_recommendation</th>\n",
       "    </tr>\n",
       "    <tr>\n",
       "      <th>timestamp</th>\n",
       "      <th></th>\n",
       "    </tr>\n",
       "  </thead>\n",
       "  <tbody>\n",
       "    <tr>\n",
       "      <th>2019-11-20 02:19:46</th>\n",
       "      <td>2.0000</td>\n",
       "    </tr>\n",
       "    <tr>\n",
       "      <th>2019-11-20 02:19:51</th>\n",
       "      <td>1.6712</td>\n",
       "    </tr>\n",
       "    <tr>\n",
       "      <th>2019-11-20 02:20:05</th>\n",
       "      <td>1.6712</td>\n",
       "    </tr>\n",
       "    <tr>\n",
       "      <th>2019-11-20 02:20:11</th>\n",
       "      <td>1.6712</td>\n",
       "    </tr>\n",
       "    <tr>\n",
       "      <th>2019-11-20 02:20:22</th>\n",
       "      <td>1.6712</td>\n",
       "    </tr>\n",
       "  </tbody>\n",
       "</table>\n",
       "</div>"
      ],
      "text/plain": [
       "                     gas_price_recommendation\n",
       "timestamp                                    \n",
       "2019-11-20 02:19:46                    2.0000\n",
       "2019-11-20 02:19:51                    1.6712\n",
       "2019-11-20 02:20:05                    1.6712\n",
       "2019-11-20 02:20:11                    1.6712\n",
       "2019-11-20 02:20:22                    1.6712"
      ]
     },
     "execution_count": 13,
     "metadata": {},
     "output_type": "execute_result"
    }
   ],
   "source": [
    "df_recommendation = geth_recommend(df_blocks)\n",
    "df_recommendation.head()"
   ]
  },
  {
   "cell_type": "code",
   "execution_count": 14,
   "metadata": {
    "pycharm": {
     "name": "#%%\n"
    }
   },
   "outputs": [
    {
     "data": {
      "text/html": [
       "<div>\n",
       "<style scoped>\n",
       "    .dataframe tbody tr th:only-of-type {\n",
       "        vertical-align: middle;\n",
       "    }\n",
       "\n",
       "    .dataframe tbody tr th {\n",
       "        vertical-align: top;\n",
       "    }\n",
       "\n",
       "    .dataframe thead th {\n",
       "        text-align: right;\n",
       "    }\n",
       "</style>\n",
       "<table border=\"1\" class=\"dataframe\">\n",
       "  <thead>\n",
       "    <tr style=\"text-align: right;\">\n",
       "      <th></th>\n",
       "      <th>blocks_waited</th>\n",
       "      <th>price_recommended</th>\n",
       "      <th>inclusion_price</th>\n",
       "    </tr>\n",
       "  </thead>\n",
       "  <tbody>\n",
       "    <tr>\n",
       "      <th>count</th>\n",
       "      <td>28496.000000</td>\n",
       "      <td>28496.000000</td>\n",
       "      <td>28496.000000</td>\n",
       "    </tr>\n",
       "    <tr>\n",
       "      <th>mean</th>\n",
       "      <td>1.949782</td>\n",
       "      <td>4.787156</td>\n",
       "      <td>2.613649</td>\n",
       "    </tr>\n",
       "    <tr>\n",
       "      <th>std</th>\n",
       "      <td>1.883193</td>\n",
       "      <td>5.177903</td>\n",
       "      <td>3.829732</td>\n",
       "    </tr>\n",
       "    <tr>\n",
       "      <th>min</th>\n",
       "      <td>0.000000</td>\n",
       "      <td>0.000000</td>\n",
       "      <td>0.000000</td>\n",
       "    </tr>\n",
       "    <tr>\n",
       "      <th>25%</th>\n",
       "      <td>1.000000</td>\n",
       "      <td>1.200000</td>\n",
       "      <td>1.000000</td>\n",
       "    </tr>\n",
       "    <tr>\n",
       "      <th>50%</th>\n",
       "      <td>1.000000</td>\n",
       "      <td>3.000000</td>\n",
       "      <td>1.000000</td>\n",
       "    </tr>\n",
       "    <tr>\n",
       "      <th>75%</th>\n",
       "      <td>2.000000</td>\n",
       "      <td>6.000000</td>\n",
       "      <td>2.000000</td>\n",
       "    </tr>\n",
       "    <tr>\n",
       "      <th>max</th>\n",
       "      <td>22.000000</td>\n",
       "      <td>30.000000</td>\n",
       "      <td>30.000000</td>\n",
       "    </tr>\n",
       "  </tbody>\n",
       "</table>\n",
       "</div>"
      ],
      "text/plain": [
       "       blocks_waited  price_recommended  inclusion_price\n",
       "count   28496.000000       28496.000000     28496.000000\n",
       "mean        1.949782           4.787156         2.613649\n",
       "std         1.883193           5.177903         3.829732\n",
       "min         0.000000           0.000000         0.000000\n",
       "25%         1.000000           1.200000         1.000000\n",
       "50%         1.000000           3.000000         1.000000\n",
       "75%         2.000000           6.000000         2.000000\n",
       "max        22.000000          30.000000        30.000000"
      ]
     },
     "execution_count": 14,
     "metadata": {},
     "output_type": "execute_result"
    }
   ],
   "source": [
    "results = evaluate_recommender(df_blocks, df_recommendation)\n",
    "results[[\"blocks_waited\", \"price_recommended\", \"inclusion_price\"]].describe()"
   ]
  },
  {
   "cell_type": "markdown",
   "metadata": {
    "pycharm": {
     "name": "#%%\n"
    }
   },
   "source": [
    "We can see that the proposed deep gas oracle got better recommendations than geth, as found in the paper.\n",
    "Changing the Urgency parameter allow for faster and more expensive transaction or slower and cheaper ones.\n",
    "(I did not perform hyperparameters optimization)"
   ]
  }
 ],
 "metadata": {
  "kernelspec": {
   "display_name": "Python 3",
   "language": "python",
   "name": "python3"
  },
  "language_info": {
   "codemirror_mode": {
    "name": "ipython",
    "version": 3
   },
   "file_extension": ".py",
   "mimetype": "text/x-python",
   "name": "python",
   "nbconvert_exporter": "python",
   "pygments_lexer": "ipython3",
   "version": "3.8.5"
  }
 },
 "nbformat": 4,
 "nbformat_minor": 1
}
